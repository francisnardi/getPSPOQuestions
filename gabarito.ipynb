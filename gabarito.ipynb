{
 "cells": [
  {
   "cell_type": "code",
   "execution_count": null,
   "id": "9468b443",
   "metadata": {},
   "outputs": [],
   "source": [
    "import json\n",
    "\n",
    "with open('gabarito.json') as json_file:\n",
    "    data = json.load(json_file)\n",
    "    \n",
    "letras = ['a', 'b', 'c', 'd', 'e', 'f', 'g', 'h', 'i', 'j']\n",
    "gabarito = \"\"\n",
    "count = 1\n",
    "\n",
    "for element in data:\n",
    "    gabarito_binario = data[element]['correct']\n",
    "    gabarito += str(count) + \". \"\n",
    "    for i in range(len(gabarito_binario)):\n",
    "        if (gabarito_binario[i] == 1):\n",
    "            gabarito += str(letras[i]) + \", \"\n",
    "    gabarito = gabarito[:-2]\n",
    "    gabarito += \"\\n\\n\"\n",
    "    count += 1\n",
    "    \n",
    "print(gabarito)"
   ]
  }
 ],
 "metadata": {
  "kernelspec": {
   "display_name": "Python 3",
   "language": "python",
   "name": "python3"
  },
  "language_info": {
   "codemirror_mode": {
    "name": "ipython",
    "version": 3
   },
   "file_extension": ".py",
   "mimetype": "text/x-python",
   "name": "python",
   "nbconvert_exporter": "python",
   "pygments_lexer": "ipython3",
   "version": "3.8.5"
  }
 },
 "nbformat": 4,
 "nbformat_minor": 5
}
